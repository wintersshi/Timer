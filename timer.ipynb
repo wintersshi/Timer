##time codes in jupyter notebook
%%time
print('Start measuring time...')
# your codes
