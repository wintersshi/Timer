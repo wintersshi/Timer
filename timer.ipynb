##time codes in jupyter notebook
%%time
print('Loading Data :Begin...')
# your codes
print('Loading Data : End')
